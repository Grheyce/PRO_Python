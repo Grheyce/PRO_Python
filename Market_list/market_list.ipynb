{
 "cells": [
  {
   "cell_type": "code",
   "execution_count": 7,
   "id": "248b6a64-358b-4f37-b1ec-ed24fc9b658e",
   "metadata": {
    "editable": true,
    "slideshow": {
     "slide_type": ""
    },
    "tags": []
   },
   "outputs": [],
   "source": [
    "#create a list\n",
    "market_list = []"
   ]
  },
  {
   "cell_type": "code",
   "execution_count": null,
   "id": "3a00ff0e-0965-4716-ae44-00318aa5a14d",
   "metadata": {},
   "outputs": [
    {
     "name": "stdout",
     "output_type": "stream",
     "text": [
      "\n",
      "What would you like to do with this list? \n",
      "\n",
      "1. Add to the list\n",
      "2. View the list\n",
      "3. Check if an item is in the list\n",
      "4. Delete an object from the list\n",
      "5. Clear the list\n",
      "6. Exit \n",
      "\n"
     ]
    },
    {
     "name": "stdin",
     "output_type": "stream",
     "text": [
      "Enter an option number:  1\n",
      "Enter an item to be added to the list: \n",
      " Garri\n"
     ]
    },
    {
     "name": "stdout",
     "output_type": "stream",
     "text": [
      "Garri has been added to the list\n",
      "\n",
      "What would you like to do with this list? \n",
      "\n",
      "1. Add to the list\n",
      "2. View the list\n",
      "3. Check if an item is in the list\n",
      "4. Delete an object from the list\n",
      "5. Clear the list\n",
      "6. Exit \n",
      "\n"
     ]
    }
   ],
   "source": [
    "#Get input from user\n",
    "while True:\n",
    "    print('\\nWhat would you like to do with this list? \\n')\n",
    "    print(\"1. Add to the list\")\n",
    "    print(\"2. View the list\")\n",
    "    print(\"3. Check if an item is in the list\")\n",
    "    print(\"4. Delete an object from the list\")\n",
    "    print(\"5. Clear the list\")\n",
    "    print(\"6. Exit \\n\")\n",
    "\n",
    "    user_input = input(\"Enter an option number: \")\n",
    "    \n",
    "    if user_input == \"1\":\n",
    "        items = input(\"Enter an item to be added to the list: \\n\")\n",
    "        market_list.append(items)\n",
    "        print(f\"{items} has been added to the list\")\n",
    "    elif user_input == \"2\":\n",
    "        if not market_list:\n",
    "            print(\"The market list is empty\")\n",
    "        else:\n",
    "            for index, item in enumerate(market_list):\n",
    "                print(f\"{index+1}. {item}\")\n",
    "    elif user_input == \"3\":\n",
    "        item = input(\"Enter an item to be checked\")\n",
    "        if item in market_list:\n",
    "            print(f\"{item} is in market list\")\n",
    "        else:\n",
    "            print(f\"{item} is not in market list\")\n",
    "    elif user_input == \"4\":\n",
    "        for index, item in enumerate(market_list):\n",
    "            print(f\"{index}. {item}\")\n",
    "        to_delete = int(input(\"Enter index number to remove: \"))\n",
    "        removed_item = market_list.pop(to_delete)\n",
    "        print(f\"{removed_item} has been removed from the list\")\n",
    "    elif user_input == \"5\":\n",
    "        market_list.clear()\n",
    "        print(\"Items cleared\")\n",
    "    elif user_input == \"6\":\n",
    "        print(\"Exiting program..... Goodbye!\")\n",
    "        break\n",
    "    \n",
    "    else:\n",
    "        print(\"Invalid option number\")"
   ]
  },
  {
   "cell_type": "code",
   "execution_count": null,
   "id": "7ad87910-ab3b-4eff-8980-eb1c826c4edc",
   "metadata": {},
   "outputs": [],
   "source": []
  }
 ],
 "metadata": {
  "kernelspec": {
   "display_name": "Python 3 (ipykernel)",
   "language": "python",
   "name": "python3"
  },
  "language_info": {
   "codemirror_mode": {
    "name": "ipython",
    "version": 3
   },
   "file_extension": ".py",
   "mimetype": "text/x-python",
   "name": "python",
   "nbconvert_exporter": "python",
   "pygments_lexer": "ipython3",
   "version": "3.12.4"
  }
 },
 "nbformat": 4,
 "nbformat_minor": 5
}
