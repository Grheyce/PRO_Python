{
 "cells": [
  {
   "cell_type": "code",
   "execution_count": 6,
   "id": "3bc40dee-f4f4-4638-b39f-e2b132b55e57",
   "metadata": {},
   "outputs": [],
   "source": [
    "import random"
   ]
  },
  {
   "cell_type": "code",
   "execution_count": 32,
   "id": "3747c818-8f11-49d0-a1b2-d8a90d382be8",
   "metadata": {},
   "outputs": [
    {
     "name": "stdout",
     "output_type": "stream",
     "text": [
      "baboo\n",
      "Hello and welcome to my hangman game!\n",
      "\n",
      "_                                             \n",
      "| |                                            \n",
      "| |__   __ _ _ __   __ _ _ __ ___   __ _ _ __  \n",
      "| '_ \\ / _` | '_ \\ / _` | '_ ` _ \\ / _` | '_ \\ \n",
      "| | | | (_| | | | | (_| | | | | | | (_| | | | |\n",
      "|_| |_|\\__,_|_| |_|\\__, |_| |_| |_|\\__,_|_| |_|\n",
      "                    __/ |                      \n",
      "                   |___/ \n",
      "\n"
     ]
    },
    {
     "name": "stdin",
     "output_type": "stream",
     "text": [
      "I have chosen a word, can you guess a letter in the word? \n",
      " l\n"
     ]
    },
    {
     "name": "stdout",
     "output_type": "stream",
     "text": [
      "wrong guess. You have 4 lives left\n",
      "\n",
      "      -----\n",
      "      |   |\n",
      "      |   O\n",
      "      |   |\n",
      "      |  \n",
      "      |\n",
      "    ---------\n",
      "    \n"
     ]
    },
    {
     "name": "stdin",
     "output_type": "stream",
     "text": [
      "Would you like to get an hint? (yes/no):  yes\n"
     ]
    },
    {
     "name": "stdout",
     "output_type": "stream",
     "text": [
      "['b', '-', '-', '-', '-']\n"
     ]
    },
    {
     "name": "stdin",
     "output_type": "stream",
     "text": [
      "I have chosen a word, can you guess a letter in the word? \n",
      " a\n"
     ]
    },
    {
     "name": "stdout",
     "output_type": "stream",
     "text": [
      "['b', 'a', '-', '-', '-']\n"
     ]
    },
    {
     "name": "stdin",
     "output_type": "stream",
     "text": [
      "I have chosen a word, can you guess a letter in the word? \n",
      " b\n"
     ]
    },
    {
     "name": "stdout",
     "output_type": "stream",
     "text": [
      "You have guessed the letter before. Try again\n",
      "['b', 'a', 'b', '-', '-']\n"
     ]
    },
    {
     "name": "stdin",
     "output_type": "stream",
     "text": [
      "I have chosen a word, can you guess a letter in the word? \n",
      " o\n"
     ]
    },
    {
     "name": "stdout",
     "output_type": "stream",
     "text": [
      "['b', 'a', 'b', 'o', 'o']\n",
      "You won\n",
      "Yay, the word is baboo\n"
     ]
    }
   ],
   "source": [
    "words = [\"antelope\", \"baboo\",\"cat\",\"dog\",\"elephant\",\"fish\",\"goat\",\"hen\",\"monkey\",\"zebra\"]\n",
    "chosen_word = random.choice(words)\n",
    "print(chosen_word)\n",
    "display = [\"-\"] * len(chosen_word)\n",
    "lives = 5\n",
    "print(\"Hello and welcome to my hangman game!\")\n",
    "print(hangman_logo)\n",
    "end_of_game = False\n",
    "while not end_of_game:\n",
    "    guess = input(\"I have chosen a word, can you guess a letter in the word? \\n\").lower()\n",
    "    word_length = len(chosen_word)\n",
    "    if guess in display:\n",
    "        print(f\"You have guessed the letter before. Try again\")\n",
    "    for position in range(word_length):\n",
    "        letter = chosen_word[position]\n",
    "        if letter == guess:\n",
    "            display[position] = letter\n",
    "    if guess not in chosen_word:\n",
    "        lives -= 1\n",
    "        print(f\"wrong guess. You have {lives} lives left\")\n",
    "        print(hangman_stages[lives])\n",
    "        hint = input(\"Would you like to get an hint? (yes/no): \")\n",
    "        if hint.lower() == \"yes\":\n",
    "            position = random.randint(0, len(chosen_word) - 1)\n",
    "            hint_letter = chosen_word[position]\n",
    "            display[position] = hint_letter\n",
    "        #print(display)\n",
    "        if lives == 0:\n",
    "            end_of_game = True\n",
    "            print(f\"You lose. The chosen word was {chosen_word}\")\n",
    "    print(display)\n",
    "    if \"-\" not in display:\n",
    "        end_of_game = True\n",
    "        print(\"You won\")   \n",
    "print(f\"Yay, the word is {\"\".join(display)}\")"
   ]
  },
  {
   "cell_type": "code",
   "execution_count": 10,
   "id": "2dc98fa5-1166-4496-ad70-1a7a1bcd4aad",
   "metadata": {},
   "outputs": [],
   "source": [
    "hangman_logo = r\"\"\"\n",
    "_                                             \n",
    "| |                                            \n",
    "| |__   __ _ _ __   __ _ _ __ ___   __ _ _ __  \n",
    "| '_ \\ / _` | '_ \\ / _` | '_ ` _ \\ / _` | '_ \\ \n",
    "| | | | (_| | | | | (_| | | | | | | (_| | | | |\n",
    "|_| |_|\\__,_|_| |_|\\__, |_| |_| |_|\\__,_|_| |_|\n",
    "                    __/ |                      \n",
    "                   |___/ \n",
    "\"\"\""
   ]
  },
  {
   "cell_type": "code",
   "execution_count": 28,
   "id": "281de712-c33f-45fb-9b03-ce7cfdbbe40f",
   "metadata": {},
   "outputs": [
    {
     "name": "stdout",
     "output_type": "stream",
     "text": [
      "\n",
      "_                                             \n",
      "| |                                            \n",
      "| |__   __ _ _ __   __ _ _ __ ___   __ _ _ __  \n",
      "| '_ \\ / _` | '_ \\ / _` | '_ ` _ \\ / _` | '_ \\ \n",
      "| | | | (_| | | | | (_| | | | | | | (_| | | | |\n",
      "|_| |_|\\__,_|_| |_|\\__, |_| |_| |_|\\__,_|_| |_|\n",
      "                    __/ |                      \n",
      "                   |___/ \n",
      "\n"
     ]
    }
   ],
   "source": [
    "print(hangman_logo)"
   ]
  },
  {
   "cell_type": "code",
   "execution_count": 12,
   "id": "1eecd03b-00f2-4d96-bd8a-2810b62f9cac",
   "metadata": {},
   "outputs": [],
   "source": [
    "hangman_stages = [\n",
    "    \"\"\"\n",
    "      -----\n",
    "      |   |\n",
    "      |   O\n",
    "      |  /|\\\\\n",
    "      |  / \\\\\n",
    "      |\n",
    "    ---------\n",
    "    \"\"\",\n",
    "    \"\"\"\n",
    "      -----\n",
    "      |   |\n",
    "      |   O\n",
    "      |  /|\\\\\n",
    "      |  /\n",
    "      |\n",
    "    ---------\n",
    "    \"\"\",\n",
    "    \"\"\"\n",
    "      -----\n",
    "      |   |\n",
    "      |   O\n",
    "      |  /|\\\\\n",
    "      |  \n",
    "      |\n",
    "    ---------\n",
    "    \"\"\",\n",
    "    \"\"\"\n",
    "      -----\n",
    "      |   |\n",
    "      |   O\n",
    "      |  /|\n",
    "      |  \n",
    "      |\n",
    "    ---------\n",
    "    \"\"\",\n",
    "    \"\"\"\n",
    "      -----\n",
    "      |   |\n",
    "      |   O\n",
    "      |   |\n",
    "      |  \n",
    "      |\n",
    "    ---------\n",
    "    \"\"\",\n",
    "    \"\"\"\n",
    "      -----\n",
    "      |   |\n",
    "      |   O\n",
    "      |  \n",
    "      |  \n",
    "      |\n",
    "    ---------\n",
    "    \"\"\"\n",
    "]"
   ]
  },
  {
   "cell_type": "code",
   "execution_count": 35,
   "id": "c90f1908-ec4c-4b9b-9f13-1b3b9c79f902",
   "metadata": {},
   "outputs": [
    {
     "name": "stdout",
     "output_type": "stream",
     "text": [
      "\n",
      "      -----\n",
      "      |   |\n",
      "      |   O\n",
      "      |  /|\\\n",
      "      |  /\n",
      "      |\n",
      "    ---------\n",
      "    \n"
     ]
    }
   ],
   "source": [
    "print(hangman_stages[1])"
   ]
  },
  {
   "cell_type": "code",
   "execution_count": 22,
   "id": "502c2450-05c0-4b02-9c6c-b2428d902876",
   "metadata": {},
   "outputs": [],
   "source": [
    "def hint(word, display):\n",
    "    not_used = []\n",
    "    for letter in word:\n",
    "        if letter not in display:\n",
    "            not_used.append(letter)\n",
    "    return random.choice(not_used)"
   ]
  },
  {
   "cell_type": "code",
   "execution_count": 40,
   "id": "0e41ab31-44af-4b26-8fea-a757856a0a43",
   "metadata": {},
   "outputs": [],
   "source": [
    "word = \"apple\"\n",
    "display = [\"a\", \"-\", \"-\", \"-\", \"-\"]"
   ]
  },
  {
   "cell_type": "code",
   "execution_count": 67,
   "id": "854c79c0-f877-4df8-943c-88d0189c61d6",
   "metadata": {},
   "outputs": [
    {
     "ename": "TypeError",
     "evalue": "'str' object is not callable",
     "output_type": "error",
     "traceback": [
      "\u001b[1;31m---------------------------------------------------------------------------\u001b[0m",
      "\u001b[1;31mTypeError\u001b[0m                                 Traceback (most recent call last)",
      "Cell \u001b[1;32mIn[67], line 1\u001b[0m\n\u001b[1;32m----> 1\u001b[0m letter \u001b[38;5;241m=\u001b[39m hint(word, display)\n",
      "\u001b[1;31mTypeError\u001b[0m: 'str' object is not callable"
     ]
    }
   ],
   "source": [
    "letter = hint(word, display)"
   ]
  },
  {
   "cell_type": "code",
   "execution_count": 69,
   "id": "a1306492-dc83-4aa8-9236-1c8568c6041a",
   "metadata": {},
   "outputs": [
    {
     "data": {
      "text/plain": [
       "'t'"
      ]
     },
     "execution_count": 69,
     "metadata": {},
     "output_type": "execute_result"
    }
   ],
   "source": [
    "letter"
   ]
  },
  {
   "cell_type": "code",
   "execution_count": null,
   "id": "ed0b0ad6-b498-403e-b1d8-e5c6402a78b1",
   "metadata": {},
   "outputs": [],
   "source": [
    "hint(chosen_word, display)"
   ]
  },
  {
   "cell_type": "code",
   "execution_count": 22,
   "id": "194d71a4-bd87-467a-b4bc-2680c597bc63",
   "metadata": {},
   "outputs": [
    {
     "name": "stdin",
     "output_type": "stream",
     "text": [
      "Would you like to get an hint? (yes/no):  yes\n"
     ]
    },
    {
     "name": "stdout",
     "output_type": "stream",
     "text": [
      "['A', '-', '-', '-', '-', '-', '-', '-']\n"
     ]
    }
   ],
   "source": [
    "chosen_word = \"Antelope\"\n",
    "display = [\"-\"] * len(chosen_word)\n",
    "#print(hint)\n",
    "user = input(\"Would you like to get an hint? (yes/no): \")\n",
    "if user.lower() == \"yes\":\n",
    "    position = random.randint(0, len(chosen_word) - 1)\n",
    "    hint_letter = chosen_word[position]\n",
    "    display[position] = hint_letter\n",
    "    print(display)\n",
    "else:\n",
    "    print(\"Try again\")\n",
    "#word_length = len(chosen_word)\n",
    "#for position in range(word_length):\n",
    "    #if user.lower == \"yes\":\n",
    "        #hi_nt = chosen_word[position]\n",
    "        #hint = hi_nt\n",
    "        #display[position] = hint"
   ]
  },
  {
   "cell_type": "code",
   "execution_count": null,
   "id": "f0b90871-4e62-44be-af3e-80a3cbd77e2b",
   "metadata": {},
   "outputs": [],
   "source": []
  }
 ],
 "metadata": {
  "kernelspec": {
   "display_name": "Python 3 (ipykernel)",
   "language": "python",
   "name": "python3"
  },
  "language_info": {
   "codemirror_mode": {
    "name": "ipython",
    "version": 3
   },
   "file_extension": ".py",
   "mimetype": "text/x-python",
   "name": "python",
   "nbconvert_exporter": "python",
   "pygments_lexer": "ipython3",
   "version": "3.12.4"
  }
 },
 "nbformat": 4,
 "nbformat_minor": 5
}
